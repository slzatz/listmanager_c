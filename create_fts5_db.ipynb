{
 "cells": [
  {
   "cell_type": "markdown",
   "metadata": {},
   "source": [
    "# The steps below will create and populate an FTS database, which we may want to do every once in a while just to be sure we're current."
   ]
  },
  {
   "cell_type": "markdown",
   "metadata": {},
   "source": [
    "Below will create a new fts5_new.db that is empty -- it is a standard fts database and contains content."
   ]
  },
  {
   "cell_type": "code",
   "execution_count": 1,
   "metadata": {},
   "outputs": [],
   "source": [
    "import sqlite3\n",
    "#db = sqlite3.connect('mylistmanager_s.db')\n",
    "fts = sqlite3.connect('fts5.db')\n",
    "fts_c = fts.cursor()\n",
    "# uncomment below when you want to recreate the fts5 database\n",
    "#fts.execute('CREATE VIRTUAL TABLE fts USING fts5 (title, note, lm_id UNINDEXED);')\n",
    "# not sure the below is necessary - deleted items just don't find matches in mylismanager_s.db\n",
    "#fts.execute('CREATE VIRTUAL TABLE fts USING fts5 (title, note, lm_id UNINDEXED, deleted);') ##?"
   ]
  },
  {
   "cell_type": "markdown",
   "metadata": {},
   "source": [
    "This is how you create a new fts database that will be named whatever you named it above"
   ]
  },
  {
   "cell_type": "code",
   "execution_count": 4,
   "metadata": {},
   "outputs": [
    {
     "name": "stdout",
     "output_type": "stream",
     "text": [
      "done\n"
     ]
    }
   ],
   "source": [
    "#c = db.cursor()\n",
    "#fts_c = fts.cursor()\n",
    "\n",
    "from lmdb_s import *\n",
    "from time import sleep\n",
    "tasks = local_session.query(Task)\n",
    "for task in tasks:\n",
    "    if task.deleted:\n",
    "        continue\n",
    "    title = task.title\n",
    "    note = task.note\n",
    "    if not note:\n",
    "        note = \"\"\n",
    "    title = title.replace(\"'\", \"''\")\n",
    "    note = note.replace(\"'\", \"''\")\n",
    "    try:\n",
    "        # the title field is field 0 and the note field is field 1\n",
    "        fts_c.execute(f\"INSERT INTO fts (title, note, lm_id) VALUES (\\'{title}\\',\\'{note}\\', {task.id});\")\n",
    "    except Exception as e:\n",
    "        print(f\"INSERT INTO fts (title, note, lm_id) VALUES (\\'{title}\\',\\'{note}\\', {task.id});\")\n",
    "        print(e)\n",
    "        \n",
    "    sleep(.01) \n",
    "    \n",
    "\n",
    "fts.commit()\n",
    "print(\"done\")"
   ]
  },
  {
   "cell_type": "markdown",
   "metadata": {},
   "source": [
    "This demonstrates searching and retrieving ids using the FTS5 virtual table to retrieve matches"
   ]
  },
  {
   "cell_type": "code",
   "execution_count": 2,
   "metadata": {},
   "outputs": [
    {
     "name": "stdout",
     "output_type": "stream",
     "text": [
      "[(3,), (22,), (229,), (1046,), (1557,), (2002,), (2664,), (3111,), (3169,), (3249,), (3427,), (3487,), (4096,), (4752,), (4795,), (5065,)]\n"
     ]
    }
   ],
   "source": [
    "fts_c.execute(\"SELECT lm_id FROM fts WHERE fts MATCH 'norm';\")\n",
    "rows = fts_c.fetchall()\n",
    "print(rows)\n",
    "#fts_c.close()\n",
    "#fts.close()"
   ]
  },
  {
   "cell_type": "markdown",
   "metadata": {},
   "source": [
    "This demonstrates highlighting the title (field is 0)"
   ]
  },
  {
   "cell_type": "code",
   "execution_count": 4,
   "metadata": {},
   "outputs": [
    {
     "name": "stdout",
     "output_type": "stream",
     "text": [
      "[(229, '[Norm] St. Landau Feb. 12~')]\n"
     ]
    }
   ],
   "source": [
    "fts = sqlite3.connect('fts5.db')\n",
    "fts_c = fts.cursor()\n",
    "fts_c.execute(\"SELECT lm_id, highlight(fts, 0, '[',']') FROM fts WHERE fts MATCH 'norm' AND lm_id=229;\")\n",
    "rows = fts_c.fetchall()\n",
    "print(rows)"
   ]
  },
  {
   "cell_type": "markdown",
   "metadata": {},
   "source": [
    "This demonstrates highlighting the note (field = 1)"
   ]
  },
  {
   "cell_type": "code",
   "execution_count": 11,
   "metadata": {},
   "outputs": [
    {
     "name": "stdout",
     "output_type": "stream",
     "text": [
      "[(5065, '[Norm] is a really good guy.')]\n"
     ]
    }
   ],
   "source": [
    "fts_c.execute(\"SELECT lm_id, highlight(fts, 1, '[',']') FROM fts WHERE fts MATCH 'norm' AND lm_id=5065;\")\n",
    "rows = fts_c.fetchall()\n",
    "print(rows)"
   ]
  },
  {
   "cell_type": "code",
   "execution_count": null,
   "metadata": {},
   "outputs": [],
   "source": []
  }
 ],
 "metadata": {
  "kernelspec": {
   "display_name": "Python 3",
   "language": "python",
   "name": "python3"
  },
  "language_info": {
   "codemirror_mode": {
    "name": "ipython",
    "version": 3
   },
   "file_extension": ".py",
   "mimetype": "text/x-python",
   "name": "python",
   "nbconvert_exporter": "python",
   "pygments_lexer": "ipython3",
   "version": "3.7.4"
  }
 },
 "nbformat": 4,
 "nbformat_minor": 2
}
